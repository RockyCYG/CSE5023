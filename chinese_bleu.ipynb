{
 "cells": [
  {
   "cell_type": "code",
   "execution_count": 8,
   "metadata": {},
   "outputs": [],
   "source": [
    "# !pip install jieba\n",
    "# !pip install evaluate"
   ]
  },
  {
   "cell_type": "code",
   "execution_count": 1,
   "metadata": {
    "ExecuteTime": {
     "end_time": "2025-05-03T01:10:03.170326Z",
     "start_time": "2025-05-03T01:09:56.843822Z"
    }
   },
   "outputs": [],
   "source": [
    "import jieba\n",
    "import evaluate\n"
   ]
  },
  {
   "cell_type": "code",
   "execution_count": 7,
   "metadata": {},
   "outputs": [
    {
     "name": "stdout",
     "output_type": "stream",
     "text": [
      "{'bleu': 0.537284965911771, 'precisions': [0.8333333333333334, 0.6, 0.5, 0.3333333333333333], 'brevity_penalty': 1.0, 'length_ratio': 1.0, 'translation_length': 6, 'reference_length': 6}\n"
     ]
    }
   ],
   "source": [
    "# English Example\n",
    "predictions = [\"hello, I don't understand.\"]\n",
    "references = [\n",
    "    [\"hello, I don't know.\"]\n",
    "]\n",
    "bleu = evaluate.load(\"bleu\")\n",
    "results = bleu.compute(predictions=predictions, references=references)\n",
    "print(results)"
   ]
  },
  {
   "cell_type": "code",
   "execution_count": 9,
   "metadata": {},
   "outputs": [
    {
     "name": "stdout",
     "output_type": "stream",
     "text": [
      "因此，我们知道，洪水是气候和气候变化的结果，不同的发生在不同的情况下发生了不同的。\n",
      "因此 ， 我们 知道 ， 洪水 是 气候 和 气候变化 的 结果 ， 不同 的 发生 在 不同 的 情况 下 发生 了 不同 的 。\n",
      "\n",
      "洪水的产生是气候和河道共同作用的结果，不同河道形态下洪水产生的特点是不同的。\n",
      "洪水 的 产生 是 气候 和 河道 共同 作用 的 结果 ， 不同 河道 形态 下 洪水 产生 的 特点 是 不同 的 。\n",
      "\n",
      "{'bleu': 0.18180608220159192, 'precisions': [0.5384615384615384, 0.28, 0.16666666666666666, 0.043478260869565216], 'brevity_penalty': 1.0, 'length_ratio': 1.0833333333333333, 'translation_length': 26, 'reference_length': 24}\n"
     ]
    }
   ],
   "source": [
    "# Chinese Example\n",
    "space_sent = \"因 此 ， 我 们 知 道 ， 洪 水 是 气 候 和 气 候 变 化 的 结 果 ， 不 同 的 发 生 在 不 同 的 情 况 下 发 生 了 不 同 的 。\"\n",
    "sent = ''\n",
    "for word in space_sent:\n",
    "    if word != \" \":\n",
    "        sent += word\n",
    "print(sent)\n",
    "words = list(jieba.cut(sent, cut_all=False)) # tokeize sentence using jieba\n",
    "sent_pred = ''\n",
    "for word in words:\n",
    "    if sent_pred == '':\n",
    "        sent_pred += word\n",
    "    else:\n",
    "        sent_pred += ' ' + word\n",
    "print(sent_pred)\n",
    "\n",
    "print()\n",
    "\n",
    "sent = \"洪水的产生是气候和河道共同作用的结果，不同河道形态下洪水产生的特点是不同的。\"\n",
    "print(sent)\n",
    "words = list(jieba.cut(sent, cut_all=False)) # tokeize sentence using jieba\n",
    "sent_ref = ''\n",
    "for word in words:\n",
    "    if sent_ref == '':\n",
    "        sent_ref += word\n",
    "    else:\n",
    "        sent_ref += ' ' + word\n",
    "print(sent_ref)\n",
    "\n",
    "print()\n",
    "\n",
    "predictions = [sent_pred]\n",
    "references = [\n",
    "    [sent_ref]\n",
    "]\n",
    "bleu = evaluate.load(\"bleu\")\n",
    "results = bleu.compute(predictions=predictions, references=references)\n",
    "print(results)"
   ]
  },
  {
   "cell_type": "code",
   "execution_count": 10,
   "metadata": {},
   "outputs": [
    {
     "ename": "IndexError",
     "evalue": "list index out of range",
     "output_type": "error",
     "traceback": [
      "\u001b[1;31m---------------------------------------------------------------------------\u001b[0m",
      "\u001b[1;31mIndexError\u001b[0m                                Traceback (most recent call last)",
      "Cell \u001b[1;32mIn[10], line 8\u001b[0m\n\u001b[0;32m      5\u001b[0m \u001b[38;5;28;01mimport\u001b[39;00m \u001b[38;5;21;01msys\u001b[39;00m\n\u001b[0;32m      7\u001b[0m input_file \u001b[38;5;241m=\u001b[39m sys\u001b[38;5;241m.\u001b[39margv[\u001b[38;5;241m1\u001b[39m] \u001b[38;5;66;03m# input text file\u001b[39;00m\n\u001b[1;32m----> 8\u001b[0m output_file \u001b[38;5;241m=\u001b[39m \u001b[43msys\u001b[49m\u001b[38;5;241;43m.\u001b[39;49m\u001b[43margv\u001b[49m\u001b[43m[\u001b[49m\u001b[38;5;241;43m2\u001b[39;49m\u001b[43m]\u001b[49m \u001b[38;5;66;03m# output file to save results\u001b[39;00m\n\u001b[0;32m     10\u001b[0m \u001b[38;5;28;01mwith\u001b[39;00m \u001b[38;5;28mopen\u001b[39m(input_file,\u001b[38;5;124m'\u001b[39m\u001b[38;5;124mr\u001b[39m\u001b[38;5;124m'\u001b[39m) \u001b[38;5;28;01mas\u001b[39;00m f2:\n\u001b[0;32m     11\u001b[0m     sents \u001b[38;5;241m=\u001b[39m f2\u001b[38;5;241m.\u001b[39mreadlines() \u001b[38;5;66;03m# read lines of input file\u001b[39;00m\n",
      "\u001b[1;31mIndexError\u001b[0m: list index out of range"
     ]
    }
   ],
   "source": [
    "## reference code\n",
    "# word segmentation on .txt file\n",
    "# each line of this file includes one sentence\n",
    "import jieba\n",
    "import sys\n",
    "\n",
    "input_file = sys.argv[1] # input text file\n",
    "output_file = sys.argv[2] # output file to save results\n",
    "\n",
    "with open(input_file,'r') as f2:\n",
    "    sents = f2.readlines() # read lines of input file\n",
    "\n",
    "lengths = []\n",
    "with open(output_file,'w') as f1: # to save outputs\n",
    "    for sent in sents: # one sentence at a time\n",
    "        # f1.write(sent.strip()+'\\t-->\\t') # dump original sentence\n",
    "        words = list(jieba.cut(sent, cut_all=False)) # tokeize sentence using jieba\n",
    "        lengths.append(len(words)) # keep record of sentence lengths\n",
    "        for word in words:\n",
    "            if word == '\\n':\n",
    "                # f1.write(word.encode('utf-8'))\n",
    "                f1.write(word)\n",
    "            else:\n",
    "            \t# f1.write(word.encode('utf-8') + ' ') # dump tokenized sentence with tab separation\n",
    "                f1.write(word + ' ')  \n",
    "            # pdb.set_trace()\n",
    "\n",
    "\n",
    "print('Minimum length: ',min(lengths))\n",
    "print('Maximum length: ',max(lengths))\n",
    "print('Average length: ',sum(lengths)/len(lengths))"
   ]
  }
 ],
 "metadata": {
  "kernelspec": {
   "display_name": "Python 3",
   "language": "python",
   "name": "python3"
  },
  "language_info": {
   "codemirror_mode": {
    "name": "ipython",
    "version": 3
   },
   "file_extension": ".py",
   "mimetype": "text/x-python",
   "name": "python",
   "nbconvert_exporter": "python",
   "pygments_lexer": "ipython3",
   "version": "3.11.5"
  }
 },
 "nbformat": 4,
 "nbformat_minor": 2
}
